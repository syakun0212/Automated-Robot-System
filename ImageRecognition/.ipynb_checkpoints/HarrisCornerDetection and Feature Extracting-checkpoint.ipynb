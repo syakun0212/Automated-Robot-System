{
 "cells": [
  {
   "cell_type": "code",
   "execution_count": 42,
   "id": "0724beab",
   "metadata": {},
   "outputs": [],
   "source": [
    "import math\n",
    "import numpy as np\n",
    "import cv2\n",
    "\n",
    "# Relevant function modules\n",
    "\n",
    "# def matching_list(pts_src, pts_dst):\n",
    "    \n",
    "#     src_match = []\n",
    "#     dst_match = []\n",
    "    \n",
    "#     src_big = True\n",
    "    \n",
    "#     if len(pts_src) >= len(pts_dst):\n",
    "#         mapping_data = pts_src\n",
    "#         map_to_another = pts_dst\n",
    "#         src_big = True\n",
    "        \n",
    "#     else:\n",
    "#         mapping_data = pts_dst\n",
    "#         map_to_another = pts_src\n",
    "#         src_big = False\n",
    "    \n",
    "#     for i in range(len(mapping_data)):\n",
    "#         for j in range(len(map_to_another)):\n",
    "#             if abs(mapping_data[i][0] - map_to_another[j][0]) <= 5:\n",
    "#                 if abs(mapping_data[i][1] - map_to_another[j][1]) <= 5:\n",
    "#                     if src_big:\n",
    "#                         src_match.append(list(mapping_data[i]))\n",
    "#                         dst_match.append(list(map_to_another[j]))\n",
    "#                     else:\n",
    "#                         src_match.append(list(map_to_another[j]))\n",
    "#                         dst_match.append(list(mapping_data[i]))\n",
    "#                     break\n",
    "    \n",
    "#     return np.array(src_match), np.array(dst_match)\n",
    "def increase_brightness(img, value=30):\n",
    "    hsv = cv2.cvtColor(img, cv2.COLOR_BGR2HSV)\n",
    "    h, s, v = cv2.split(hsv)\n",
    "\n",
    "    lim = 255 - value\n",
    "    v[v > lim] = 255\n",
    "    v[v <= lim] += value\n",
    "\n",
    "    final_hsv = cv2.merge((h, s, v))\n",
    "    img = cv2.cvtColor(final_hsv, cv2.COLOR_HSV2BGR)\n",
    "    return img\n",
    "\n",
    "def matching_list(pts_src, pts_dst):\n",
    "    \n",
    "    src_match = []\n",
    "    dst_match = []\n",
    "    \n",
    "    src_big = True\n",
    "    \n",
    "    if len(pts_src) >= len(pts_dst):\n",
    "        mapping_data = pts_src\n",
    "        map_to_another = pts_dst\n",
    "        src_big = True\n",
    "        \n",
    "    else:\n",
    "        mapping_data = pts_dst\n",
    "        map_to_another = pts_src\n",
    "        src_big = False\n",
    "    \n",
    "    for i in range(len(mapping_data)):\n",
    "        for j in range(len(map_to_another)):\n",
    "            # if abs(mapping_data[i][0] - map_to_another[j][0]) <= 5:\n",
    "            #     if abs(mapping_data[i][1] - map_to_another[j][1]) <= 5:\n",
    "            dist = np.sum(np.power(mapping_data[i] - map_to_another[j],2))\n",
    "            if(dist < 40):\n",
    "                if src_big:\n",
    "                    src_match.append(list(mapping_data[i]))\n",
    "                    dst_match.append(list(map_to_another[j]))\n",
    "                else:\n",
    "                    src_match.append(list(map_to_another[j]))\n",
    "                    dst_match.append(list(mapping_data[i]))\n",
    "                break\n",
    "    \n",
    "    return np.array(src_match), np.array(dst_match)\n",
    "import cv2\n",
    "import numpy as np\n",
    "\n",
    "def find_corners(image, detected_image):\n",
    "    hScale = 1\n",
    "    wScale = 1\n",
    "    if detected_image == True:\n",
    "        image = cv2.imread(image)\n",
    "        cv2.imshow(\"Src\", image)\n",
    "        ih, iw, c = image.shape\n",
    "        hScale = ih/100\n",
    "        wScale = iw/100\n",
    "        imageRes = cv2.resize(image, [100,100])\n",
    "        #gray = cv2.bilateralFilter(imageRes,9,75,75)\n",
    "        gray = cv2.cvtColor(imageRes, cv2.COLOR_RGB2GRAY)\n",
    "        \n",
    "#         _, binImg = cv2.threshold(gray, 30, 255,cv2.THRESH_OTSU)\n",
    "#         binImg = cv2.morphologyEx(binImg, cv2.MORPH_ERODE, cv2.getStructuringElement(cv2.MORPH_CROSS, (3,3)))\n",
    "#         gray = binImg.astype(np.uint8)\n",
    "        cv2.waitKey(0)\n",
    "        cv2.destroyAllWindows()\n",
    "    else:\n",
    "        image = cv2.imread(image)\n",
    "        gray = cv2.cvtColor(image, cv2.COLOR_RGB2GRAY)\n",
    "    \n",
    "    gray_float = np.float32(gray)\n",
    "\n",
    "    dst = cv2.cornerHarris(gray_float, 2, 3, 0.04)\n",
    "\n",
    "    dst = cv2.dilate(dst, None)\n",
    "\n",
    "    ret, dst = cv2.threshold(dst, 0.01 * dst.max(), 255, 0)\n",
    "    \n",
    "#     cv2.imshow(\"dst\", dst)\n",
    "    \n",
    "    dst = np.uint8(dst)\n",
    "\n",
    "    # find centroids\n",
    "    ret, labels, stats, centroids = cv2.connectedComponentsWithStats(dst)\n",
    "    \n",
    "    # define the criteria to stop and refine the corners\n",
    "    criteria = (cv2.TERM_CRITERIA_EPS + cv2.TERM_CRITERIA_MAX_ITER, 100, \n",
    "                0.001)\n",
    "    \n",
    "    corners = cv2.cornerSubPix(gray,np.float32(centroids),(5,5), \n",
    "              (-1,-1),criteria)\n",
    "\n",
    "#     # To draw the corners\n",
    "#     for corner in corners:\n",
    "#         gray[int(corner[1]), int(corner[0])] = [0, 0, 255]\n",
    "\n",
    "#     cv2.imshow(\"image\", gray)\n",
    "#     cv2.waitKey(0)\n",
    "\n",
    "    #corners = np.multiply(corners, )\n",
    "    return image, gray, corners, np.array([[wScale, hScale]])\n",
    "\n",
    "def rotationMatrixToEulerAngles(R) :\n",
    "    sy = math.sqrt(R[0,0] * R[0,0] +  R[1,0] * R[1,0])\n",
    "\n",
    "    singular = sy < 1e-6\n",
    "\n",
    "    if  not singular :\n",
    "        x = math.atan2(R[2,1] , R[2,2])\n",
    "        y = math.atan2(-R[2,0], sy)\n",
    "        z = math.atan2(R[1,0], R[0,0])\n",
    "    else :\n",
    "        x = math.atan2(-R[1,2], R[1,1])\n",
    "        y = math.atan2(-R[2,0], sy)\n",
    "        z = 0\n",
    "\n",
    "    return np.array([x, y, z])"
   ]
  },
  {
   "cell_type": "code",
   "execution_count": 24,
   "id": "6d89f624",
   "metadata": {},
   "outputs": [],
   "source": [
    "def matching_list(pts_src, pts_dst):\n",
    "    \n",
    "    src_match = []\n",
    "    dst_match = []\n",
    "    \n",
    "    src_big = True\n",
    "    \n",
    "    if len(pts_src) >= len(pts_dst):\n",
    "        mapping_data = pts_src\n",
    "        map_to_another = pts_dst\n",
    "        src_big = True\n",
    "        \n",
    "    else:\n",
    "        mapping_data = pts_dst\n",
    "        map_to_another = pts_src\n",
    "        src_big = False\n",
    "    \n",
    "    for i in range(len(mapping_data)):\n",
    "        for j in range(len(map_to_another)):\n",
    "            # if abs(mapping_data[i][0] - map_to_another[j][0]) <= 5:\n",
    "            #     if abs(mapping_data[i][1] - map_to_another[j][1]) <= 5:\n",
    "            dist = np.sum(np.power(mapping_data[i] - map_to_another[j],2))\n",
    "            if(dist < 40):\n",
    "                if src_big:\n",
    "                    src_match.append(list(mapping_data[i]))\n",
    "                    dst_match.append(list(map_to_another[j]))\n",
    "                else:\n",
    "                    src_match.append(list(map_to_another[j]))\n",
    "                    dst_match.append(list(mapping_data[i]))\n",
    "                break\n",
    "    \n",
    "    return np.array(src_match), np.array(dst_match)"
   ]
  },
  {
   "cell_type": "code",
   "execution_count": 43,
   "id": "81d45b89",
   "metadata": {},
   "outputs": [
    {
     "name": "stdout",
     "output_type": "stream",
     "text": [
      "[[49.501823 49.508186]\n",
      " [13.592621 14.248766]\n",
      " [84.79252  14.198854]\n",
      " [26.433367 26.683985]\n",
      " [71.715324 26.736355]\n",
      " [39.309185 39.183704]\n",
      " [59.44768  39.201363]\n",
      " [39.20025  59.60237 ]\n",
      " [59.53464  59.589424]\n",
      " [26.368267 71.89913 ]\n",
      " [71.792786 71.82725 ]\n",
      " [13.770839 84.577354]\n",
      " [84.617134 84.60372 ]]\n",
      "\n",
      "\n",
      "[[49.32851   49.455017 ]\n",
      " [89.51745    6.5738325]\n",
      " [18.813253  11.831143 ]\n",
      " [75.25791   21.936666 ]\n",
      " [30.009602  23.621557 ]\n",
      " [61.40984   37.300365 ]\n",
      " [42.580647  40.225807 ]\n",
      " [47.        44.       ]\n",
      " [38.632652  61.2404   ]\n",
      " [59.549065  61.330578 ]\n",
      " [30.755102  71.44898  ]\n",
      " [72.17975   75.57034  ]\n",
      " [22.6       82.4      ]\n",
      " [15.027661  87.452    ]\n",
      " [84.42254   91.74508  ]]\n"
     ]
    }
   ],
   "source": [
    "import pickle\n",
    "import cv2\n",
    "import numpy as np\n",
    "\n",
    "calib_result_pickle = pickle.load(open(\"new_camera_calib_pickle.p\", \"rb\" ))\n",
    "mtx = calib_result_pickle[\"mtx\"]\n",
    "optimal_camera_matrix = calib_result_pickle[\"optimal_camera_matrix\"]\n",
    "dist = calib_result_pickle[\"dist\"]\n",
    "roi = calib_result_pickle[\"roi\"]\n",
    "\n",
    "src_img, src_C, pts_src, _ = find_corners(\"symbols/00bulleye.png\", False)\n",
    "print(pts_src)\n",
    "\n",
    "print(\"\\n\")\n",
    "\n",
    "dst_img, dst_C, pts_dst, cutScale = find_corners(\"imgCut_A_45.png\", True)\n",
    "\n",
    "print(pts_dst)"
   ]
  },
  {
   "cell_type": "code",
   "execution_count": 14,
   "id": "f2202b07",
   "metadata": {},
   "outputs": [],
   "source": [
    "src_match, dst_match = matching_list(pts_src, pts_dst)"
   ]
  },
  {
   "cell_type": "code",
   "execution_count": 15,
   "id": "a9225e2f",
   "metadata": {},
   "outputs": [
    {
     "data": {
      "text/plain": [
       "array([[49.501823, 49.508186],\n",
       "       [26.433367, 26.683985],\n",
       "       [71.715324, 26.736355],\n",
       "       [39.309185, 39.183704],\n",
       "       [59.44768 , 39.201363],\n",
       "       [39.20025 , 59.60237 ],\n",
       "       [59.53464 , 59.589424],\n",
       "       [71.792786, 71.82725 ],\n",
       "       [26.368267, 71.89913 ],\n",
       "       [13.770839, 84.577354]], dtype=float32)"
      ]
     },
     "execution_count": 15,
     "metadata": {},
     "output_type": "execute_result"
    }
   ],
   "source": [
    "src_match"
   ]
  },
  {
   "cell_type": "code",
   "execution_count": 16,
   "id": "45160d2b",
   "metadata": {},
   "outputs": [
    {
     "data": {
      "text/plain": [
       "array([[49.399437, 49.612442],\n",
       "       [28.588203, 24.36141 ],\n",
       "       [71.469635, 26.628153],\n",
       "       [43.57143 , 41.825397],\n",
       "       [60.284275, 39.44884 ],\n",
       "       [43.448277, 59.482758],\n",
       "       [60.07543 , 60.958454],\n",
       "       [69.158455, 73.71379 ],\n",
       "       [29.680511, 75.29024 ],\n",
       "       [16.220215, 90.32287 ]], dtype=float32)"
      ]
     },
     "execution_count": 16,
     "metadata": {},
     "output_type": "execute_result"
    }
   ],
   "source": [
    "dst_match"
   ]
  },
  {
   "cell_type": "code",
   "execution_count": 17,
   "id": "fc02e86a",
   "metadata": {},
   "outputs": [],
   "source": [
    "pi_image_size = (640, 480)\n",
    "\n",
    "#Image Stuff\n",
    "image_size = (416, 416)\n",
    "modelScale = np.array([ p / m for p,m in zip(pi_image_size, image_size) ])"
   ]
  },
  {
   "cell_type": "code",
   "execution_count": 18,
   "id": "a5c05d03",
   "metadata": {},
   "outputs": [
    {
     "data": {
      "text/plain": [
       "array([[0.38, 0.83]])"
      ]
     },
     "execution_count": 18,
     "metadata": {},
     "output_type": "execute_result"
    }
   ],
   "source": [
    "cutScale"
   ]
  },
  {
   "cell_type": "code",
   "execution_count": 19,
   "id": "19292fa9",
   "metadata": {},
   "outputs": [
    {
     "data": {
      "text/plain": [
       "array([[18.77178604, 41.17832687],\n",
       "       [10.8635173 , 20.21997042],\n",
       "       [27.1584613 , 22.10136686],\n",
       "       [16.55714348, 34.71507992],\n",
       "       [22.90802452, 32.74253811],\n",
       "       [16.51034508, 49.37068878],\n",
       "       [22.82866409, 50.59551693],\n",
       "       [26.28021286, 61.18244644],\n",
       "       [11.27859436, 62.49089706],\n",
       "       [ 6.16368164, 74.96798073]])"
      ]
     },
     "execution_count": 19,
     "metadata": {},
     "output_type": "execute_result"
    }
   ],
   "source": [
    "import numpy as np\n",
    "# src_match_01 = np.array([[13,14], [84,14], [14,84], [85,84]], dtype=float)\n",
    "# dst_match_01 = np.array([[10,10], [27,14], [9,72], [26,69]], dtype=float)\n",
    "\n",
    "#objectCoord_points_01 = np.divide(dst_match_01, cutScale)\n",
    "dst_points = np.multiply(dst_match, cutScale)\n",
    "#objectCoord_points = dst_match\n",
    "dst_points"
   ]
  },
  {
   "cell_type": "code",
   "execution_count": 20,
   "id": "f933aa65",
   "metadata": {},
   "outputs": [
    {
     "data": {
      "text/plain": [
       "array([[49.501823, 49.508186],\n",
       "       [26.433367, 26.683985],\n",
       "       [71.715324, 26.736355],\n",
       "       [39.309185, 39.183704],\n",
       "       [59.44768 , 39.201363],\n",
       "       [39.20025 , 59.60237 ],\n",
       "       [59.53464 , 59.589424],\n",
       "       [71.792786, 71.82725 ],\n",
       "       [26.368267, 71.89913 ],\n",
       "       [13.770839, 84.577354]], dtype=float32)"
      ]
     },
     "execution_count": 20,
     "metadata": {},
     "output_type": "execute_result"
    }
   ],
   "source": [
    "src_match"
   ]
  },
  {
   "cell_type": "code",
   "execution_count": 21,
   "id": "854ac9c6",
   "metadata": {},
   "outputs": [
    {
     "data": {
      "text/plain": [
       "array([[18.77178604, 41.17832687],\n",
       "       [10.8635173 , 20.21997042],\n",
       "       [27.1584613 , 22.10136686],\n",
       "       [16.55714348, 34.71507992],\n",
       "       [22.90802452, 32.74253811],\n",
       "       [16.51034508, 49.37068878],\n",
       "       [22.82866409, 50.59551693],\n",
       "       [26.28021286, 61.18244644],\n",
       "       [11.27859436, 62.49089706],\n",
       "       [ 6.16368164, 74.96798073]])"
      ]
     },
     "execution_count": 21,
     "metadata": {},
     "output_type": "execute_result"
    }
   ],
   "source": [
    "dst_points"
   ]
  },
  {
   "cell_type": "code",
   "execution_count": 22,
   "id": "139a3be6",
   "metadata": {},
   "outputs": [],
   "source": [
    "src_key = cv2.KeyPoint_convert(src_match)\n",
    "#objectCoord = cv2.KeyPoint_convert(dst_match_01)\n",
    "dst_key = cv2.KeyPoint_convert(dst_points)\n",
    "\n",
    "matches = []\n",
    "\n",
    "for i in range(len(src_key)):\n",
    "    match = cv2.DMatch()\n",
    "    match.queryIdx = i\n",
    "    match.trainIdx = i\n",
    "    matches.append(match)\n",
    "\n",
    "kpMatchImg = cv2.drawMatches(src_C, src_key, dst_img, dst_key,matches,None,flags=cv2.DrawMatchesFlags_NOT_DRAW_SINGLE_POINTS)\n",
    "cv2.imshow(\"KF\", kpMatchImg)\n",
    "cv2.waitKey(0)\n",
    "cv2.destroyAllWindows()"
   ]
  },
  {
   "cell_type": "code",
   "execution_count": 23,
   "id": "3041b280",
   "metadata": {},
   "outputs": [
    {
     "data": {
      "text/plain": [
       "array([[ 4.13060218e-01, -4.62217350e-03,  1.22810443e+00],\n",
       "       [ 7.95958118e-02,  9.78570571e-01, -6.34769279e+00],\n",
       "       [ 1.92907732e-03,  1.19308810e-04,  1.00000000e+00]])"
      ]
     },
     "execution_count": 23,
     "metadata": {},
     "output_type": "execute_result"
    }
   ],
   "source": [
    "H, status = cv2.findHomography(src_match, dst_points)\n",
    "# H, status = cv2.findHomography(src_match, dst_match)\n",
    "H"
   ]
  },
  {
   "cell_type": "code",
   "execution_count": 24,
   "id": "69a2de4a",
   "metadata": {},
   "outputs": [
    {
     "name": "stdout",
     "output_type": "stream",
     "text": [
      "\n",
      "Rotation Vector: \n",
      "[ 1.18125466  1.20318843 -0.16087225]\n",
      " \n",
      "Translation\n",
      " [[-1.4793986 ]\n",
      " [-0.48600112]\n",
      " [ 1.20374051]]\n",
      "\n",
      "Rotation Vector: \n",
      "[ 1.18125466  1.20318843 -0.16087225]\n",
      " \n",
      "Translation\n",
      " [[ 1.4793986 ]\n",
      " [ 0.48600112]\n",
      " [-1.20374051]]\n",
      "\n",
      "Rotation Vector: \n",
      "[ 116.97330872  -63.93037918 -118.37694281]\n",
      " \n",
      "Translation\n",
      " [[ 0.1427496 ]\n",
      " [-0.3735046 ]\n",
      " [ 1.92715474]]\n",
      "\n",
      "Rotation Vector: \n",
      "[ 116.97330872  -63.93037918 -118.37694281]\n",
      " \n",
      "Translation\n",
      " [[-0.1427496 ]\n",
      " [ 0.3735046 ]\n",
      " [-1.92715474]]\n"
     ]
    },
    {
     "data": {
      "text/plain": [
       "-1"
      ]
     },
     "execution_count": 24,
     "metadata": {},
     "output_type": "execute_result"
    }
   ],
   "source": [
    "num, Rs, Ts, Ns  = cv2.decomposeHomographyMat(H, optimal_camera_matrix)\n",
    "im_out = cv2.warpPerspective(src_C, H, (100, 100))\n",
    "cv2.imshow(\"LOL\", im_out)\n",
    "\n",
    "for rotVec, tvec in zip(Rs, Ts):\n",
    "    eulerAngle = rotationMatrixToEulerAngles(rotVec)\n",
    "    print(f\"\\nRotation Vector: \\n{eulerAngle * 180/math.pi}\\n \\nTranslation\\n {tvec}\")\n",
    "\n",
    "cv2.waitKey(0)"
   ]
  },
  {
   "cell_type": "markdown",
   "id": "5a211c53",
   "metadata": {},
   "source": [
    "0 degree\n",
    "Rotation Vector: \n",
    "[-1.09141071 -2.92496171  3.78795037]\n",
    "Rotation Vector: \n",
    "[-1.09141071 -2.92496171  3.78795037]\n",
    "Rotation Vector: \n",
    "[ -6.28991613 -11.67256973  -9.94181421]\n",
    "Rotation Vector: \n",
    "[ -6.28991613 -11.67256973  -9.94181421]\n",
    "\n",
    "45 Degree\n",
    "Rotation Vector: \n",
    "[20.09066893 53.73017115 35.32890249]\n",
    "Rotation Vector: \n",
    "[20.09066893 53.73017115 35.32890249]\n",
    "Rotation Vector: \n",
    "[-2.78506694 -0.54283498  4.24519016]\n",
    "Rotation Vector: \n",
    "[-2.78506694 -0.54283498  4.24519016]\n",
    "\n",
    "-45 Degree\n",
    "Rotation Vector: \n",
    "[ 1.08843471  0.84914201 -2.35451004]\n",
    "Rotation Vector: \n",
    "[ 1.08843471  0.84914201 -2.35451004]\n",
    "Rotation Vector: \n",
    "[ 48.98301031 -57.14350285 -31.53704861]\n",
    "Rotation Vector: \n",
    "[ 48.98301031 -57.14350285 -31.53704861]"
   ]
  },
  {
   "cell_type": "code",
   "execution_count": 38,
   "id": "4c40db4b",
   "metadata": {},
   "outputs": [
    {
     "data": {
      "text/plain": [
       "array([[26.31578947, 12.04819277],\n",
       "       [71.05263158, 16.86746988],\n",
       "       [23.68421053, 86.74698795],\n",
       "       [68.42105263, 83.13253012],\n",
       "       [39.47368421, 22.89156627],\n",
       "       [97.36842105, 21.68674699],\n",
       "       [36.84210526, 74.69879518],\n",
       "       [94.73684211, 77.10843373],\n",
       "       [52.63157895, 38.55421687],\n",
       "       [78.94736842, 37.34939759],\n",
       "       [52.63157895, 61.44578313],\n",
       "       [92.10526316, 77.10843373],\n",
       "       [63.15789474, 49.39759036]])"
      ]
     },
     "execution_count": 38,
     "metadata": {},
     "output_type": "execute_result"
    }
   ],
   "source": [
    "import numpy as np\n",
    "src_match_01 = np.array([[13,14], [84,14], [14,84], [85,84], [27,27], [72,28], [27, 72], [72,72], [40,40], [60,40], [39,60], [60,60], [49,50]], dtype=float)\n",
    "dst_match_01 = np.array([[10,10], [27,14], [9,72], [26,69], [15,19], [37,18], [14,62], [36, 64], [20, 32], [30,31], [20,51], [35,64], [24,41]], dtype=float)\n",
    "\n",
    "#objectCoord_points_01 = np.divide(dst_match_01, cutScale)\n",
    "dst_points = np.divide(dst_match_01, cutScale)\n",
    "#objectCoord_points = dst_match\n",
    "dst_points"
   ]
  },
  {
   "cell_type": "code",
   "execution_count": 39,
   "id": "55d3173d",
   "metadata": {},
   "outputs": [],
   "source": [
    "src_key = cv2.KeyPoint_convert(src_match_01)\n",
    "#objectCoord = cv2.KeyPoint_convert(dst_match_01)\n",
    "dst_key = cv2.KeyPoint_convert(dst_points)\n",
    "\n",
    "matches = []\n",
    "\n",
    "for i in range(len(src_key)):\n",
    "    match = cv2.DMatch()\n",
    "    match.queryIdx = i\n",
    "    match.trainIdx = i\n",
    "    matches.append(match)\n",
    "\n",
    "kpMatchImg = cv2.drawMatches(src_C, src_key, dst_C, dst_key,matches,None,flags=cv2.DrawMatchesFlags_NOT_DRAW_SINGLE_POINTS)\n",
    "cv2.imshow(\"KF\", kpMatchImg)\n",
    "cv2.waitKey(0)\n",
    "cv2.destroyAllWindows()"
   ]
  },
  {
   "cell_type": "code",
   "execution_count": null,
   "id": "5e734bc1",
   "metadata": {},
   "outputs": [],
   "source": []
  }
 ],
 "metadata": {
  "kernelspec": {
   "display_name": "Python 3",
   "language": "python",
   "name": "python3"
  },
  "language_info": {
   "codemirror_mode": {
    "name": "ipython",
    "version": 3
   },
   "file_extension": ".py",
   "mimetype": "text/x-python",
   "name": "python",
   "nbconvert_exporter": "python",
   "pygments_lexer": "ipython3",
   "version": "3.9.5"
  }
 },
 "nbformat": 4,
 "nbformat_minor": 5
}
